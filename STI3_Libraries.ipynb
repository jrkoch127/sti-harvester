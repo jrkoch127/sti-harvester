{
 "cells": [
  {
   "cell_type": "markdown",
   "id": "57c6e87e",
   "metadata": {},
   "source": [
    "## STI Libraries\n",
    "Input year of data, and update respective ADS library with matched bibcodes"
   ]
  },
  {
   "cell_type": "code",
   "execution_count": null,
   "id": "19b21a7f",
   "metadata": {},
   "outputs": [],
   "source": [
    "import pandas as pd\n",
    "import numpy as np\n",
    "import requests\n",
    "import json\n",
    "\n",
    "year = \"2021\"\n",
    "# year = \"no_pub\"\n",
    "\n",
    "# Open my excel sheet as a data frame\n",
    "path = \"/Users/sao/Documents/Python-Projects/NASA_STI/data/\"\n",
    "file = year + \"_data.xlsx\"\n",
    "df = pd.read_excel(path + file, sheet_name=\"Sheet1\",header=None)"
   ]
  },
  {
   "cell_type": "code",
   "execution_count": null,
   "id": "b9f25bfb",
   "metadata": {},
   "outputs": [],
   "source": [
    "# -- Update/Add Bibcodes to Library\n",
    "if year == \"2023\":\n",
    "    biblib = \"vIrrFuihTsSJv8-D61NyFg\" #2023\n",
    "if year == \"2022\":\n",
    "    biblib = \"feD7tGjWQMKxGGcFC0b1rw\" #2022\n",
    "if year == \"2021\":\n",
    "    biblib = \"lOcUe64aR9arnh8KK_YDvg\" #2021\n",
    "if year == \"2020\":\n",
    "    biblib = \"brk94GLAT0eKVLlECD1iLw\" #2020\n",
    "if year == \"2019\":\n",
    "    biblib = \"K-tRnVfWTWGzt73Qg_1qUw\" #2019\n",
    "if year == \"2018\":\n",
    "    biblib = \"Cgq7noGNRNSU3tkQWXX0cw\" #2018\n",
    "if year == \"2017\":\n",
    "    biblib = \"ZNandKvATGqEyNNnWHkLUw\" #2017\n",
    "if year == \"2016\":\n",
    "    biblib = \"xb_VYNjnRr6xUt-f8LHJxA\" #2016\n",
    "if year == \"2015\":\n",
    "    biblib = \"zK-ltALNRraehwbqrAH1ew\" #2015\n",
    "if year == \"2014\":\n",
    "    biblib = \"uKBGNyF0RRCYLiK68gG-kA\" #2014\n",
    "if year == \"2013\":\n",
    "    biblib = \"_T4Q0EC2TYq2NmufY0cm0w\" #<=2013\n",
    "if year == \"no_pub\":\n",
    "    biblib = \"hnzTvBBpTTSuSSFegZQ2IQ\" # no_pub\n",
    "\n",
    "# Grab the bibcodes\n",
    "df = pd.read_excel(path + file, sheet_name=\"Sheet1\")\n",
    "filtered_df = df.dropna(subset=['bibcode'])\n",
    "biblist = [b for b in filtered_df['bibcode'] if b != '...................' and b != '…................']\n",
    "\n",
    "# My ADS API token, and the base url for the ADS Libraries API\n",
    "token = \"Jn67NLbm53HuWvZssoER6kC1dtpfZxW6bc6fsWU9\"\n",
    "url = \"https://api.adsabs.harvard.edu/v1/biblib/documents/\" + biblib\n",
    "data = { \n",
    "    \"bibcode\": biblist,\n",
    "    \"action\": \"add\"\n",
    "        }\n",
    "headers = {'Authorization': 'Bearer ' + token}\n",
    "    \n",
    "# Send the API request\n",
    "response = requests.post(url=url, data=json.dumps(data), headers=headers)\n",
    "if response.status_code == 200:\n",
    "    print(f'Success: Added {len(set(biblist))} bibcodes to Library')\n",
    "else:\n",
    "    print(f'From ADS status_code is {response.status_code}')"
   ]
  },
  {
   "cell_type": "code",
   "execution_count": null,
   "id": "3e2aae59",
   "metadata": {},
   "outputs": [],
   "source": []
  }
 ],
 "metadata": {
  "kernelspec": {
   "display_name": "Python 3",
   "language": "python",
   "name": "python3"
  },
  "language_info": {
   "codemirror_mode": {
    "name": "ipython",
    "version": 3
   },
   "file_extension": ".py",
   "mimetype": "text/x-python",
   "name": "python",
   "nbconvert_exporter": "python",
   "pygments_lexer": "ipython3",
   "version": "3.8.8"
  }
 },
 "nbformat": 4,
 "nbformat_minor": 5
}
